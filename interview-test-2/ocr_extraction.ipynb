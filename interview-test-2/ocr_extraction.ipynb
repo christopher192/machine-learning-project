{
 "cells": [
  {
   "cell_type": "code",
   "execution_count": 11,
   "metadata": {},
   "outputs": [],
   "source": [
    "# import libraries\n",
    "import os\n",
    "import psycopg2\n",
    "import pytesseract\n",
    "from pdf2image import convert_from_path"
   ]
  },
  {
   "cell_type": "code",
   "execution_count": 12,
   "metadata": {},
   "outputs": [],
   "source": [
    "# database configuration\n",
    "db_config = {\n",
    "    'dbname': 'document_db',\n",
    "    'user': 'postgres',\n",
    "    'password': 'admin',\n",
    "    'host': 'localhost',\n",
    "    'port': '5432'\n",
    "}\n",
    "\n",
    "# initialize variable\n",
    "pdf_path = '2023-Double-Funnel.pdf'\n",
    "images = convert_from_path(pdf_path, 300)\n",
    "text_list = []"
   ]
  },
  {
   "cell_type": "code",
   "execution_count": 13,
   "metadata": {},
   "outputs": [],
   "source": [
    "# connect to PostgreSQL database\n",
    "conn = psycopg2.connect(**db_config)\n",
    "cursor = conn.cursor()"
   ]
  },
  {
   "cell_type": "code",
   "execution_count": 14,
   "metadata": {},
   "outputs": [],
   "source": [
    "# CREATE TABLE extracted_text (\n",
    "#     id SERIAL PRIMARY KEY,\n",
    "#     page_number INT NOT NULL,\n",
    "#     text TEXT NOT NULL\n",
    "# );"
   ]
  },
  {
   "cell_type": "code",
   "execution_count": 15,
   "metadata": {},
   "outputs": [
    {
     "name": "stdout",
     "output_type": "stream",
     "text": [
      "processed page 1\n",
      "processed page 2\n",
      "processed page 3\n",
      "processed page 4\n",
      "all pages processed and data stored in the database.\n",
      "['EAGE ANNUAL\\n\\nVIENNA | AUSTRIA\\n\\nDouble funnel approach for screening of potential CO2 storage opportunities in the Norwegian\\nContinental Shelf\\n\\nIntroduction\\n\\nCarbon capture and storage (CCS) is a key waste management strategy for reducing carbon dioxide (CO2)\\nemissions and mitigating climate change. The Norwegian continental shelfhas significant capacity for CCS,\\nas it has several depleted oil and gas fields that can be used for storage of CO2. The field of CCS has seen\\nsignificant growth in recent years, as the need to reduce carbon CO2 emissions becomes increasingly\\nurgent. However, despite the increasing number of studies on CCS, there remains a lack of consensus on\\nthe most effective methods for accelerating and scaling up CCS projects.\\n\\nIn this study, the integration of Machine Learning (ML) whereby the reports from the Norwegian Petroleum\\nDirectorate (NPD) are ingested into one platform creates potential cost-effective solution by screening\\nprevious knowledge gathered for depleting oil and gas fields and significantly reduces the time of the\\nscreening, the evaluation and the ranking of CCS prospects. We investigate the feasibility of such a study\\non the Norwegian Continental Shelf by analyzing the geology and capacity of existing oil and gas fields.\\nThe analysis is conducted on historical data from final well reports for 361 wells (NPD, 2023) which are\\npriorly ingested using Machine Learning (ML) and Artificial Intelligence (AI) by indexing and tagging\\nmetadata from the documents, extracting, and classifying images and generating geological interpretable\\noutput such as heat maps or knowledge graphs. Our research includes a detailed characterization and\\ninterpretation of the subsurface geology, including the identification of potential storage formations, the\\nanalysis of reservoir properties such as porosity and permeability and the evaluation of seal characteristics.\\nWe also conducted a comprehensive assessment of the capacity for CO2 storage, considering factors such\\nas injection rate and pressure buildup.\\n\\nMethodology\\n\\nDepleting oil and gas fields in the Norwegian Continental Shelf with their massive amount of data being\\ncollected over decades of development and production are often considered good candidates for CCS\\nopportunities. Unfortunately the vast amount of knowledge come with the challenges associated to the lack\\nof normalization of the data and the diversity of the different format and template utilized making it difficult\\nto utilize the full potential of such data without allocating significant manual work.\\n\\nIn our case study, Machine learning pipelines are used to classify, cluster, and extract insights from such\\nan unstructured data. Priorly trained and G&G domain specific natural language processing (NLP)\\ntransformers are executed on the text to perform indexing, metadata tagging and topic modeling, when\\nDeep Convolutional Neural Network (DCNN) extract, classify and segment extracted images. Such an\\napproach has the advantage of significantly lessening manual human intervention allowing G&G experts\\nto focus on the interpretation of the data itself using a front end deployed interface (Baillard et al., 2019).\\nAs seen in Figure | the data visualization and interpretation are performed through a suite of six analytical\\ntools: (1) summarizes the important attributes of the well automatically extracted from the document, (2)\\naids in portraying the well data on a map and visualizes the lateral distribution of search queries, (3)\\nprovides an in-depth search within all the corpus for the text and any tagged associated metadata using\\nNLP, (4) correlates wells between each other’s to understand and interpret the semantic structure of the\\nbasin(5) searches the images extracted from DCNN into its respected geological categories, (6) quantifies\\nthe frequency of different lithologies present from the different wells.\\n\\n84 EAGE Annual Conference & Exhibition\\n', 'EAGE ANNUAL\\n\\nVIENNA | AUSTRIA\\n\\nLithology tab\\nKnowledge Graph structural element\\n\\n‘Aa = :\\n\\n. i Image search module\\n@ Well Summary Tab @ Heat Map 3 Tn search module Ov: findings with @ fguien/veacia/stvatighephic\\n\\nFigure I Analytical tools used for the case study research strategy for CO2 storage screening\\n\\nSuch a set of tools provides powerful means for understanding and interpreting large and complex sets of\\ndata. It can help to identify patterns, trends, and relationships that might not be immediately apparent from\\nraw data due to the segregation of information in separate files for each well. By narrowing down the scope\\nof focus on selected wells, the exclusion of non-relevant well and time frame reduction of the process can\\nbe accomplished.\\n\\nIn this paper, we propose a new CCS screening workflow called Double Funnel Approach (DFA), seen on\\nFigure 2 which consists of a “data sweep” and a “data target”. The “data sweep” aims to reduce all findings\\nfrom all ingested data to key learnings and key wells over the area of interest, allowing to review and rank\\nthe most suitable field candidates for potential CCS opportunities. The “data target” follows the “data\\nsweep” and focuses only on the field selected candidates and aims to refine and enhance the existing\\nunstructured data with seismic, logs, interpretation and geomodel data. During this exercise, redundant and\\nirrelevant data are removed through efficient automated version indexing and cross-correlation with the\\nunstructured data. Finally, the data is now ready for screening for CO2 injection capacity and monitoring\\nanalysis.\\nUnstructured Data Interpretation\\n\\nKey learnings gant date eet\\nKey wells eur wee\\n“ ” Key risks “DataTarget” gant\\nData Sweep Key drivers ae Target field for COZ\\nBasinMapping gen area storage\\nPlay Evaluation | cane\\na,\\nReservoir Properties | te\\nte Monitor injection in\\n\\nSeal Properties Depleting fields review CCS wells\\n\\n“ees\\n\\nand ranking\\n\"Elevan t iy Stee,\\nBASIN FIELD\\nIdentify learning over Propagate learning\\nsedimentary basins over key depleting\\n\\nfields\\n\\nFigure 2 Proposed Double Funnel Approach for CCS Screening Studies\\nCCS “data sweep” use case offshore Norway\\n\\nThe ingestion of data for the case study comprises of 490,000 pages and 440,000 images, covering a total\\nof 361 wells within 5 basins in Norway consolidating 50 years of exploration, development, and production.\\nAll these data has been retrieved from the Norwegian Petroleum Directorate (NPD). The “data sweep” of\\nthe data was completed in 21 days which evaluated various hypothesis and converge on the key learnings,\\nkey wells, key risks, and key drivers.\\n\\n84\\'* EAGE Annual Conference & Exhibition\\n', 'EAGE ANNUAL\\n\\nVIENNA | AUSTRIA\\n\\nFigure 3 shows the generated knowledge graph associated to the zone of interest. Knowledge graph is a\\nstructured way to represent and organize knowledge in a way that is easily queried and traversed across all\\nthe corpus of documents ingested. This makes it useful for a holistic interpretation of the wells present in\\nthe area of interest, interpreting and ranking them based on their location and importance in the graph\\nrespectively as “alpha” or geological analogue, “scouts”, “pack or “lone-spirit” wells. As observed, the\\nstructure of the knowledge graph does indicate a non-homogeneous distribution with 7 different clusters\\nbeing identified. Each cluster is centered around key wells acting as key geological analogues (“alpha”\\nwell) for the surrounded wells located within the cluster. “Scouts” wells define the unique critical paths\\nbetween adjacent clusters, allowing geologists to deeper understand the geology and exploration history of\\nthe area of interest (Hernandez et al., 2019).\\n\\n5,1 °\\n\\nG500M t-2 an ge >\\n\\nA, at 9-9\\n\\nSOMm-7 7 ASUS we ES es\\n\\n: °\\n= ea %\\n“C5 oe 3 \\\\ eae ae ee\\ncane ae : 7 iene\\nSSG R72 -\\n* \" — -,\\n6506H 2-6 y <n a aie ~ = gt\\nca a 7 ad\\n6507/7-2 Geuate . pe a Fac: a \\\\\\n* esanAGTIO Adin eae Dm. ” a = 2/7-20 me\\ntang: = - ssi\\n+ rece 4 +m “ew a MY oh ee\\nNahre ee ae\\nmanda = s ae ma iad\\n1 t. zn sal\\n. i wd oe _ oaghg? 7m\\n\\nFigure 3 Knowledge graph with clusters of wells from the Norwegian dataset\\n\\nBased on the recognized clusters, wells are further investigated by cross-correlating their respective post\\ndrill conclusion, formation penetration and keywords search associated to reservoir properties, seal\\ncharacteristics or a specific search allowing a deeper dive in the corpus. An example of such full corpus\\nsearch for ‘porosity’ detected from the well final well reports, within text, images and tables identifying the\\nrelevant values of the porosity and their associated formations. Auto-classified images can enhance the\\nanalysis by providing detailed information about the textures, layers, and structural characteristics of the\\nrocks through different scales, from field scale with seismic stacks or isochrone map, to microscopic scale\\nwith thin section images. Additionally, image analysis techniques such as pattern recognition can be used\\nto automatically extract features and classify rock formations.\\n\\nIn this example, the “data sweep” suggests suitable areas for CCS in the Norwegian Sea corresponding to\\nHeidrun and Marulk fields. The study highlights the potential of Ile and Garn formation within the Fangst\\nGroup under the Heidrun Field. These intervals show good average depths for CO2 storage for supercritical\\nstorage, and are characterized by good porosity and permeability, with a significant net sand thickness. Seal\\nintegrity has been confirmed and validated. The interval above Ile and Garn are currently producing, and\\ntherefore has seismic and velocity data which allows precise CO2 injection monitoring through\\nmicroseismic. The upper Ile and Garn aquifers have good reservoirs in the southern part of the Froan Basin\\nwhich may indicate additional potential CCS storage in this area.\\n\\n84\\'* EAGE Annual Conference & Exhibition\\n', \"EAGE ANNUAL\\n\\nVIENNA | AUSTRIA\\n\\n7 P Average Average :\\nwatt | Deo Field Formations Permeability seat rithotogy\\n\\n2144.5 - Heidrun 0\\n6507/7-6 2189.5 Field Ile Fm Good (25%) | Very Good Claystone Sandstone\\n\\n6507/2-2 3670 - 3695 Merulk Garn Fm Moderate Claystone Sandstone\\n\\n2507 - Heidrun . Shaly\\n6507/7-10 25315 Field Garn Fm Fair to Good Claystone\\n\\nGood (160\\nmD)\\n\\nSandstone\\n\\n6507/7-5 Heidrun lle Fm Good (24%)\\n\\nField Claystone Sandstone\\n\\nHeidrun Tomma Fm\\n\\n6507/8-1 Field (Ile Fm)\\n\\nModerate Good Claystone Sandstone\\n\\nFigure 4 Screening CO2 storage candidates based on lithology, average porosity, average permeability,\\nand seal characteristics.\\n\\nConclusion\\n\\nThe study showcases how a “Double Funnel Approach” through an ML data ingestion pipeline can be an\\nefficient screening tool to analyze, review and rank CCS potential using readily available unstructured data.\\nIn this case, 490,000 pages of documents have been analyzed in 21 days to identify potential CCS\\nopportunities below Heidrun producing field, extended across the Froan basin. Additional analysis through\\nthe “data target” may now be undertaken around Heidrun field on related wells, seismic and interpretation\\ndata.\\n\\nTo conclude, such an analysis suggests the scalability and the cost effectiveness of the methodology for\\nrapidly addressing the requirements of new CCS capabilities to mitigate the impact of the Climate Change.\\n\\nAcknowledgment\\n\\nThis paper utilizes the data from the Norwegian Petroleum Directorate (NPD) open dataset. Disclaimer of\\nthose interpretations from the study are from investigation and analysis of the authors alone.\\n\\nReferences\\n\\nBaillard, F., & Hernandez, N. (2021). A Case Study of Understanding the Bonaparte Basin using\\nUnstructured Data Analysis with Machine Learning Techniques. EAGE Annual.\\n\\nHernandez, M., & Baillard, F. (2019). An effective G&G exploration strategy inspired by a wolfpack.\\nFORCE Workshop.\\n\\nNorwegian Petroleum Directorate. (n.d.). 5 - The Norwegian Sea. Retrieved at January 20, 2023 from\\nhttps://Awww.npd.no/en/facts/publications/co2-atlases/co2-atlas-for-the-norwegian-continental-shelf/5-the-\\n\\nnorwegian-sea/\\n\\nNorwegian Petroleum Directorate. (n.d.). 4 - The Norwegian North Sea. Retrieved at January 20, 2023\\nfrom https://www.npd.no/en/facts/publications/co2-atlases/co2-atlas-for-the-norwegian-continental-\\nshelf/4-the-norwegian-north-sea/\\n\\n84'* EAGE Annual Conference & Exhibition\\n\"]\n"
     ]
    }
   ],
   "source": [
    "# loop through each page image and perform ocr\n",
    "for i, image in enumerate(images):\n",
    "    # save the page image\n",
    "    image.save(f'output/page_{i + 1}.png', 'PNG')\n",
    "\n",
    "    # perform ocr on the image\n",
    "    text = pytesseract.image_to_string(image)\n",
    "    text_list.append(text)\n",
    "\n",
    "    # save the text to a separate .txt file\n",
    "    output_file = os.path.join('output', f'text_{i + 1}.txt')\n",
    "\n",
    "    with open(output_file, 'w', encoding = 'utf-8') as file:\n",
    "        file.write(text)\n",
    "    \n",
    "    # insert the extracted text into the PostgreSQL database\n",
    "    cursor.execute(\n",
    "        \"INSERT INTO extracted_text (page_number, text) VALUES (%s, %s)\",\n",
    "        (i + 1, text)\n",
    "    )\n",
    "    conn.commit()\n",
    "\n",
    "    print(f\"processed page {i + 1}\")\n",
    "\n",
    "# close database connection\n",
    "cursor.close()\n",
    "conn.close()\n",
    "\n",
    "print(\"all pages processed and data stored in the database.\")\n",
    "\n",
    "print(text_list)"
   ]
  }
 ],
 "metadata": {
  "kernelspec": {
   "display_name": "llm",
   "language": "python",
   "name": "python3"
  },
  "language_info": {
   "codemirror_mode": {
    "name": "ipython",
    "version": 3
   },
   "file_extension": ".py",
   "mimetype": "text/x-python",
   "name": "python",
   "nbconvert_exporter": "python",
   "pygments_lexer": "ipython3",
   "version": "3.12.4"
  }
 },
 "nbformat": 4,
 "nbformat_minor": 2
}
