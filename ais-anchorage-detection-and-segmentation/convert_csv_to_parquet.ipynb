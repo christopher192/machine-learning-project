{
 "cells": [
  {
   "cell_type": "code",
   "execution_count": 1,
   "id": "b7df144f",
   "metadata": {},
   "outputs": [],
   "source": [
    "import duckdb"
   ]
  },
  {
   "cell_type": "code",
   "execution_count": 2,
   "id": "01ef86bd",
   "metadata": {},
   "outputs": [],
   "source": [
    "con = duckdb.connect(\"ais.duckdb\")"
   ]
  },
  {
   "cell_type": "code",
   "execution_count": 3,
   "id": "63b0accb",
   "metadata": {},
   "outputs": [
    {
     "data": {
      "text/plain": [
       "<duckdb.duckdb.DuckDBPyConnection at 0x2242e6751f0>"
      ]
     },
     "execution_count": 3,
     "metadata": {},
     "output_type": "execute_result"
    }
   ],
   "source": [
    "con.execute(\"\"\"\n",
    "  COPY (\n",
    "    SELECT * FROM read_csv_auto('data/feb_2023.csv')\n",
    "  ) TO 'data/feb_2023.parquet' (FORMAT PARQUET);\n",
    "\"\"\")\n",
    "\n",
    "con.execute(\"\"\"\n",
    "  COPY (\n",
    "    SELECT * FROM read_csv_auto('data/aug_2023.csv')\n",
    "  ) TO 'data/aug_2023.parquet' (FORMAT PARQUET);\n",
    "\"\"\")\n",
    "\n",
    "con.execute(\"\"\"\n",
    "  COPY (\n",
    "    SELECT * FROM read_csv_auto('data/static_mmsi.csv')\n",
    "  ) TO 'data/static_mmsi.parquet' (FORMAT PARQUET);\n",
    "\"\"\")"
   ]
  },
  {
   "cell_type": "code",
   "execution_count": 4,
   "id": "c39cc925",
   "metadata": {},
   "outputs": [
    {
     "name": "stdout",
     "output_type": "stream",
     "text": [
      "[(106232847,)]\n",
      "[(158862650,)]\n",
      "[(21268,)]\n"
     ]
    }
   ],
   "source": [
    "print(con.execute(\"SELECT COUNT(*) FROM 'data/feb_2023.parquet'\").fetchall())\n",
    "print(con.execute(\"SELECT COUNT(*) FROM 'data/aug_2023.parquet'\").fetchall())\n",
    "print(con.execute(\"SELECT COUNT(*) FROM 'data/static_mmsi.parquet'\").fetchall())"
   ]
  },
  {
   "cell_type": "code",
   "execution_count": 5,
   "id": "3e18efec",
   "metadata": {},
   "outputs": [
    {
     "data": {
      "text/plain": [
       "<duckdb.duckdb.DuckDBPyConnection at 0x2242e6751f0>"
      ]
     },
     "execution_count": 5,
     "metadata": {},
     "output_type": "execute_result"
    }
   ],
   "source": [
    "# save data\n",
    "con.execute(\"\"\"\n",
    "    CREATE OR REPLACE TABLE feb_ais AS\n",
    "    SELECT\n",
    "        *\n",
    "    FROM read_parquet('data/feb_2023.parquet')\n",
    "    ORDER BY MMSI, TIMESTAMP\n",
    "\"\"\")\n",
    "\n",
    "con.execute(\"\"\"\n",
    "    CREATE OR REPLACE TABLE aug_ais AS\n",
    "    SELECT\n",
    "        *    \n",
    "    FROM read_parquet('data/aug_2023.parquet')\n",
    "    ORDER BY MMSI, TIMESTAMP\n",
    "\"\"\")\n",
    "\n",
    "con.execute(\"\"\"\n",
    "    CREATE OR REPLACE TABLE static_mmsi AS\n",
    "    SELECT\n",
    "        *\n",
    "    FROM read_parquet('data/static_mmsi.parquet')\n",
    "\"\"\")\n",
    "\n",
    "# combined table\n",
    "# con.execute(\"\"\"\n",
    "#     CREATE OR REPLACE TABLE ais AS\n",
    "#     SELECT * FROM feb_ais\n",
    "#     UNION ALL\n",
    "#     SELECT * FROM aug_ais\n",
    "# \"\"\")"
   ]
  },
  {
   "cell_type": "code",
   "execution_count": 6,
   "id": "e0b80430",
   "metadata": {},
   "outputs": [],
   "source": [
    "con.close()"
   ]
  }
 ],
 "metadata": {
  "kernelspec": {
   "display_name": "ais",
   "language": "python",
   "name": "python3"
  },
  "language_info": {
   "codemirror_mode": {
    "name": "ipython",
    "version": 3
   },
   "file_extension": ".py",
   "mimetype": "text/x-python",
   "name": "python",
   "nbconvert_exporter": "python",
   "pygments_lexer": "ipython3",
   "version": "3.11.13"
  }
 },
 "nbformat": 4,
 "nbformat_minor": 5
}
