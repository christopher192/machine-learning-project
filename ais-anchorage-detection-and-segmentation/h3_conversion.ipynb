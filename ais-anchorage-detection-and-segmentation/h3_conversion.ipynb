{
 "cells": [
  {
   "cell_type": "code",
   "execution_count": 28,
   "id": "9a56e02e",
   "metadata": {},
   "outputs": [],
   "source": [
    "import duckdb\n",
    "import pandas as pd, h3"
   ]
  },
  {
   "cell_type": "code",
   "execution_count": 29,
   "id": "6eeed736",
   "metadata": {},
   "outputs": [],
   "source": [
    "con = duckdb.connect(\"ais.duckdb\")"
   ]
  },
  {
   "cell_type": "code",
   "execution_count": 30,
   "id": "1ca6c95a",
   "metadata": {},
   "outputs": [
    {
     "name": "stdout",
     "output_type": "stream",
     "text": [
      "            TIMESTAMP       MMSI  LATITUDE   LONGITUDE  SPEED  HEADING  COURSE\n",
      "0 2023-02-01 00:00:20  246714000  1.330283  104.075005   10.6    315.0   315.8\n",
      "1 2023-02-01 00:00:30  246714000  1.330635  104.074662   10.6    315.0   315.8\n",
      "2 2023-02-01 00:00:41  246714000  1.331018  104.074282   10.5    315.0   315.9\n",
      "3 2023-02-01 00:00:51  246714000  1.331365  104.073933   10.5    315.0   315.9\n",
      "4 2023-02-01 00:00:52  246714000  1.331365  104.073933   10.5    315.0   315.9\n"
     ]
    }
   ],
   "source": [
    "# df = con.execute(\"\"\"\n",
    "#     SELECT *\n",
    "#     FROM 'output/mmsi_246714000.parquet'\n",
    "#     WHERE LATITUDE IS NOT NULL\n",
    "#         AND LONGITUDE IS NOT NULL\n",
    "#         AND SPEED IS NOT NULL\n",
    "#         AND HEADING IS NOT NULL\n",
    "#         AND COURSE IS NOT NULL\n",
    "#     USING SAMPLE 100;\n",
    "# \"\"\").fetchdf()\n",
    "\n",
    "df = con.execute(\"\"\"\n",
    "    SELECT *\n",
    "    FROM 'output/mmsi_246714000.parquet'\n",
    "    WHERE LATITUDE IS NOT NULL\n",
    "        AND LONGITUDE IS NOT NULL\n",
    "        AND SPEED IS NOT NULL\n",
    "        AND HEADING IS NOT NULL\n",
    "        AND COURSE IS NOT NULL;\n",
    "\"\"\").fetchdf()\n",
    "\n",
    "print(df.head())"
   ]
  },
  {
   "cell_type": "code",
   "execution_count": 31,
   "id": "45a95886",
   "metadata": {},
   "outputs": [
    {
     "ename": "H3ResDomainError",
     "evalue": "Invalid child resolution 9 for cell 0x8a6526aab75ffff.",
     "output_type": "error",
     "traceback": [
      "\u001b[31m---------------------------------------------------------------------------\u001b[39m",
      "\u001b[31mH3ResDomainError\u001b[39m                          Traceback (most recent call last)",
      "\u001b[36mCell\u001b[39m\u001b[36m \u001b[39m\u001b[32mIn[31]\u001b[39m\u001b[32m, line 12\u001b[39m\n\u001b[32m     10\u001b[39m neighbors = h3.grid_disk(cell, \u001b[32m1\u001b[39m)\n\u001b[32m     11\u001b[39m parent = h3.cell_to_parent(cell, \u001b[32m7\u001b[39m)\n\u001b[32m---> \u001b[39m\u001b[32m12\u001b[39m children = \u001b[43mh3\u001b[49m\u001b[43m.\u001b[49m\u001b[43mcell_to_children\u001b[49m\u001b[43m(\u001b[49m\u001b[43mcell\u001b[49m\u001b[43m,\u001b[49m\u001b[43m \u001b[49m\u001b[32;43m9\u001b[39;49m\u001b[43m)\u001b[49m\n\u001b[32m     14\u001b[39m \u001b[38;5;28mprint\u001b[39m(\u001b[33m\"\u001b[39m\u001b[33mPoint:\u001b[39m\u001b[33m\"\u001b[39m, lat, lon)\n\u001b[32m     15\u001b[39m \u001b[38;5;28mprint\u001b[39m(\u001b[33m\"\u001b[39m\u001b[33mCell:\u001b[39m\u001b[33m\"\u001b[39m, cell)\n",
      "\u001b[36mFile \u001b[39m\u001b[32mc:\\Users\\tellw\\anaconda3\\envs\\ais\\Lib\\site-packages\\h3\\api\\basic_str\\__init__.py:366\u001b[39m, in \u001b[36mcell_to_children\u001b[39m\u001b[34m(h, res)\u001b[39m\n\u001b[32m    347\u001b[39m \u001b[38;5;250m\u001b[39m\u001b[33;03m\"\"\"\u001b[39;00m\n\u001b[32m    348\u001b[39m \u001b[33;03mChildren of a cell as an unordered collection.\u001b[39;00m\n\u001b[32m    349\u001b[39m \n\u001b[32m   (...)\u001b[39m\u001b[32m    363\u001b[39m \u001b[33;03mThere is currently no guaranteed order of the output cells.\u001b[39;00m\n\u001b[32m    364\u001b[39m \u001b[33;03m\"\"\"\u001b[39;00m\n\u001b[32m    365\u001b[39m h = _in_scalar(h)\n\u001b[32m--> \u001b[39m\u001b[32m366\u001b[39m mv = \u001b[43m_cy\u001b[49m\u001b[43m.\u001b[49m\u001b[43mcell_to_children\u001b[49m\u001b[43m(\u001b[49m\u001b[43mh\u001b[49m\u001b[43m,\u001b[49m\u001b[43m \u001b[49m\u001b[43mres\u001b[49m\u001b[43m)\u001b[49m\n\u001b[32m    368\u001b[39m \u001b[38;5;28;01mreturn\u001b[39;00m _out_collection(mv)\n",
      "\u001b[36mFile \u001b[39m\u001b[32mc:\\Users\\tellw\\anaconda3\\envs\\ais\\Lib\\site-packages\\h3\\_cy\\cells.pyx:141\u001b[39m, in \u001b[36mh3._cy.cells.cell_to_children\u001b[39m\u001b[34m()\u001b[39m\n",
      "\u001b[36mFile \u001b[39m\u001b[32mc:\\Users\\tellw\\anaconda3\\envs\\ais\\Lib\\site-packages\\h3\\_cy\\cells.pyx:146\u001b[39m, in \u001b[36mh3._cy.cells.cell_to_children\u001b[39m\u001b[34m()\u001b[39m\n",
      "\u001b[36mFile \u001b[39m\u001b[32mc:\\Users\\tellw\\anaconda3\\envs\\ais\\Lib\\site-packages\\h3\\_cy\\cells.pyx:136\u001b[39m, in \u001b[36mh3._cy.cells.cell_to_children_size\u001b[39m\u001b[34m()\u001b[39m\n",
      "\u001b[36mFile \u001b[39m\u001b[32mc:\\Users\\tellw\\anaconda3\\envs\\ais\\Lib\\site-packages\\h3\\_cy\\error_system.pyx:231\u001b[39m, in \u001b[36mh3._cy.error_system.check_for_error_msg\u001b[39m\u001b[34m()\u001b[39m\n",
      "\u001b[31mH3ResDomainError\u001b[39m: Invalid child resolution 9 for cell 0x8a6526aab75ffff."
     ]
    }
   ],
   "source": [
    "res = 10\n",
    "\n",
    "# random top 1 sample\n",
    "lat, lon = df.iloc[0][['LATITUDE', 'LONGITUDE']]\n",
    "\n",
    "# basic usage\n",
    "cell = h3.latlng_to_cell(lat, lon, res)\n",
    "center = h3.cell_to_latlng(cell)\n",
    "boundary = h3.cell_to_boundary(cell)\n",
    "neighbors = h3.grid_disk(cell, 1)\n",
    "parent = h3.cell_to_parent(cell, 7)\n",
    "children = h3.cell_to_children(cell, 9)\n",
    "\n",
    "print(\"Point:\", lat, lon)\n",
    "print(\"Cell:\", cell)\n",
    "print(\"Center:\", center)\n",
    "print(\"Boundary:\", boundary) \n",
    "print(\"Parent:\", parent)\n",
    "print(\"Children:\", children)"
   ]
  },
  {
   "cell_type": "code",
   "execution_count": 32,
   "id": "51ce3b17",
   "metadata": {},
   "outputs": [
    {
     "data": {
      "text/html": [
       "<div>\n",
       "<style scoped>\n",
       "    .dataframe tbody tr th:only-of-type {\n",
       "        vertical-align: middle;\n",
       "    }\n",
       "\n",
       "    .dataframe tbody tr th {\n",
       "        vertical-align: top;\n",
       "    }\n",
       "\n",
       "    .dataframe thead th {\n",
       "        text-align: right;\n",
       "    }\n",
       "</style>\n",
       "<table border=\"1\" class=\"dataframe\">\n",
       "  <thead>\n",
       "    <tr style=\"text-align: right;\">\n",
       "      <th></th>\n",
       "      <th>TIMESTAMP</th>\n",
       "      <th>MMSI</th>\n",
       "      <th>LATITUDE</th>\n",
       "      <th>LONGITUDE</th>\n",
       "      <th>SPEED</th>\n",
       "      <th>HEADING</th>\n",
       "      <th>COURSE</th>\n",
       "      <th>H3</th>\n",
       "    </tr>\n",
       "  </thead>\n",
       "  <tbody>\n",
       "    <tr>\n",
       "      <th>0</th>\n",
       "      <td>2023-02-01 00:00:20</td>\n",
       "      <td>246714000</td>\n",
       "      <td>1.330283</td>\n",
       "      <td>104.075005</td>\n",
       "      <td>10.6</td>\n",
       "      <td>315.0</td>\n",
       "      <td>315.8</td>\n",
       "      <td>8a6526aab75ffff</td>\n",
       "    </tr>\n",
       "    <tr>\n",
       "      <th>1</th>\n",
       "      <td>2023-02-01 00:00:30</td>\n",
       "      <td>246714000</td>\n",
       "      <td>1.330635</td>\n",
       "      <td>104.074662</td>\n",
       "      <td>10.6</td>\n",
       "      <td>315.0</td>\n",
       "      <td>315.8</td>\n",
       "      <td>8a6526aab667fff</td>\n",
       "    </tr>\n",
       "    <tr>\n",
       "      <th>2</th>\n",
       "      <td>2023-02-01 00:00:41</td>\n",
       "      <td>246714000</td>\n",
       "      <td>1.331018</td>\n",
       "      <td>104.074282</td>\n",
       "      <td>10.5</td>\n",
       "      <td>315.0</td>\n",
       "      <td>315.9</td>\n",
       "      <td>8a6526aab667fff</td>\n",
       "    </tr>\n",
       "    <tr>\n",
       "      <th>3</th>\n",
       "      <td>2023-02-01 00:00:51</td>\n",
       "      <td>246714000</td>\n",
       "      <td>1.331365</td>\n",
       "      <td>104.073933</td>\n",
       "      <td>10.5</td>\n",
       "      <td>315.0</td>\n",
       "      <td>315.9</td>\n",
       "      <td>8a6526aab667fff</td>\n",
       "    </tr>\n",
       "    <tr>\n",
       "      <th>4</th>\n",
       "      <td>2023-02-01 00:00:52</td>\n",
       "      <td>246714000</td>\n",
       "      <td>1.331365</td>\n",
       "      <td>104.073933</td>\n",
       "      <td>10.5</td>\n",
       "      <td>315.0</td>\n",
       "      <td>315.9</td>\n",
       "      <td>8a6526aab667fff</td>\n",
       "    </tr>\n",
       "  </tbody>\n",
       "</table>\n",
       "</div>"
      ],
      "text/plain": [
       "            TIMESTAMP       MMSI  LATITUDE   LONGITUDE  SPEED  HEADING  \\\n",
       "0 2023-02-01 00:00:20  246714000  1.330283  104.075005   10.6    315.0   \n",
       "1 2023-02-01 00:00:30  246714000  1.330635  104.074662   10.6    315.0   \n",
       "2 2023-02-01 00:00:41  246714000  1.331018  104.074282   10.5    315.0   \n",
       "3 2023-02-01 00:00:51  246714000  1.331365  104.073933   10.5    315.0   \n",
       "4 2023-02-01 00:00:52  246714000  1.331365  104.073933   10.5    315.0   \n",
       "\n",
       "   COURSE               H3  \n",
       "0   315.8  8a6526aab75ffff  \n",
       "1   315.8  8a6526aab667fff  \n",
       "2   315.9  8a6526aab667fff  \n",
       "3   315.9  8a6526aab667fff  \n",
       "4   315.9  8a6526aab667fff  "
      ]
     },
     "execution_count": 32,
     "metadata": {},
     "output_type": "execute_result"
    }
   ],
   "source": [
    "df[\"H3\"] = [h3.latlng_to_cell(lat, lon, res) for lat, lon in zip(df[\"LATITUDE\"], df[\"LONGITUDE\"])]\n",
    "df.head()"
   ]
  },
  {
   "cell_type": "code",
   "execution_count": 33,
   "id": "bb10257f",
   "metadata": {},
   "outputs": [],
   "source": [
    "# aggregate per hex\n",
    "agg = (df.groupby(\"H3\")\n",
    "         .agg(ship_points=(\"MMSI\",\"size\"),\n",
    "              unique_mmsi=(\"MMSI\",\"nunique\"),\n",
    "              mean_speed=(\"SPEED\",\"mean\"))\n",
    "         .reset_index())"
   ]
  },
  {
   "cell_type": "code",
   "execution_count": 34,
   "id": "98f4c963",
   "metadata": {},
   "outputs": [],
   "source": [
    "agg.to_parquet(\"output/mmsi_246714000_h3.parquet\", index=False)"
   ]
  },
  {
   "cell_type": "code",
   "execution_count": 35,
   "id": "ba3bb0d6",
   "metadata": {},
   "outputs": [
    {
     "data": {
      "text/plain": [
       "<duckdb.duckdb.DuckDBPyConnection at 0x243023a2070>"
      ]
     },
     "execution_count": 35,
     "metadata": {},
     "output_type": "execute_result"
    }
   ],
   "source": [
    "# install h3 extension if not already installed\n",
    "con.execute(\"INSTALL h3 FROM community;\")"
   ]
  },
  {
   "cell_type": "code",
   "execution_count": 36,
   "id": "25473ca0",
   "metadata": {},
   "outputs": [
    {
     "data": {
      "text/plain": [
       "<duckdb.duckdb.DuckDBPyConnection at 0x243023a2070>"
      ]
     },
     "execution_count": 36,
     "metadata": {},
     "output_type": "execute_result"
    }
   ],
   "source": [
    "con.execute(\"LOAD h3;\")"
   ]
  },
  {
   "cell_type": "code",
   "execution_count": 37,
   "id": "6a6b7114",
   "metadata": {},
   "outputs": [
    {
     "ename": "CatalogException",
     "evalue": "Catalog Error: Column with name h3 already exists!",
     "output_type": "error",
     "traceback": [
      "\u001b[31m---------------------------------------------------------------------------\u001b[39m",
      "\u001b[31mCatalogException\u001b[39m                          Traceback (most recent call last)",
      "\u001b[36mCell\u001b[39m\u001b[36m \u001b[39m\u001b[32mIn[37]\u001b[39m\u001b[32m, line 1\u001b[39m\n\u001b[32m----> \u001b[39m\u001b[32m1\u001b[39m \u001b[43mcon\u001b[49m\u001b[43m.\u001b[49m\u001b[43mexecute\u001b[49m\u001b[43m(\u001b[49m\u001b[33;43m\"\u001b[39;49m\u001b[33;43mALTER TABLE feb_ais ADD COLUMN h3 VARCHAR;\u001b[39;49m\u001b[33;43m\"\u001b[39;49m\u001b[43m)\u001b[49m\n\u001b[32m      2\u001b[39m con.execute(\u001b[33m\"\u001b[39m\u001b[33mALTER TABLE aug_ais ADD COLUMN h3 VARCHAR;\u001b[39m\u001b[33m\"\u001b[39m)\n",
      "\u001b[31mCatalogException\u001b[39m: Catalog Error: Column with name h3 already exists!"
     ]
    }
   ],
   "source": [
    "con.execute(\"ALTER TABLE feb_ais ADD COLUMN h3 VARCHAR;\")\n",
    "con.execute(\"ALTER TABLE aug_ais ADD COLUMN h3 VARCHAR;\")"
   ]
  },
  {
   "cell_type": "code",
   "execution_count": null,
   "id": "90f6bd3c",
   "metadata": {},
   "outputs": [],
   "source": [
    "con.execute(\"\"\"\n",
    "    UPDATE feb_ais\n",
    "    SET h3 = h3_latlng_to_cell(LATITUDE, LONGITUDE, 8)\n",
    "\"\"\")"
   ]
  },
  {
   "cell_type": "code",
   "execution_count": null,
   "id": "c14e98e7",
   "metadata": {},
   "outputs": [],
   "source": [
    "con.execute(\"\"\"\n",
    "    UPDATE aug_ais\n",
    "    SET h3 = h3_latlng_to_cell(LATITUDE, LONGITUDE, 8)\n",
    "\"\"\")"
   ]
  }
 ],
 "metadata": {
  "kernelspec": {
   "display_name": "ais",
   "language": "python",
   "name": "python3"
  },
  "language_info": {
   "codemirror_mode": {
    "name": "ipython",
    "version": 3
   },
   "file_extension": ".py",
   "mimetype": "text/x-python",
   "name": "python",
   "nbconvert_exporter": "python",
   "pygments_lexer": "ipython3",
   "version": "3.11.13"
  }
 },
 "nbformat": 4,
 "nbformat_minor": 5
}
