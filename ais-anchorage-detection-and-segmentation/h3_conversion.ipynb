{
 "cells": [
  {
   "cell_type": "code",
   "execution_count": 16,
   "id": "9a56e02e",
   "metadata": {},
   "outputs": [],
   "source": [
    "import duckdb\n",
    "import pandas as pd, h3"
   ]
  },
  {
   "cell_type": "code",
   "execution_count": 17,
   "id": "6eeed736",
   "metadata": {},
   "outputs": [],
   "source": [
    "con = duckdb.connect(\"ais.duckdb\")"
   ]
  },
  {
   "cell_type": "code",
   "execution_count": 18,
   "id": "1ca6c95a",
   "metadata": {},
   "outputs": [
    {
     "name": "stdout",
     "output_type": "stream",
     "text": [
      "             MMSI           TIMESTAMP  LATITUDE   LONGITUDE  SPEED  HEADING  \\\n",
      "0  mmsi-246714000 2023-02-01 00:00:20  1.330283  104.075005   10.6    315.0   \n",
      "1  mmsi-246714000 2023-02-01 00:00:30  1.330635  104.074662   10.6    315.0   \n",
      "2  mmsi-246714000 2023-02-01 00:00:41  1.331018  104.074282   10.5    315.0   \n",
      "3  mmsi-246714000 2023-02-01 00:00:51  1.331365  104.073933   10.5    315.0   \n",
      "4  mmsi-246714000 2023-02-01 00:00:52  1.331365  104.073933   10.5    315.0   \n",
      "\n",
      "   COURSE  \n",
      "0   315.8  \n",
      "1   315.8  \n",
      "2   315.9  \n",
      "3   315.9  \n",
      "4   315.9  \n"
     ]
    }
   ],
   "source": [
    "# 100 sample only\n",
    "# df = con.execute(\"\"\"\n",
    "#     SELECT *\n",
    "#     FROM 'output/mmsi_246714000.parquet'\n",
    "#     WHERE LATITUDE IS NOT NULL\n",
    "#         AND LONGITUDE IS NOT NULL\n",
    "#         AND SPEED IS NOT NULL\n",
    "#         AND HEADING IS NOT NULL\n",
    "#         AND COURSE IS NOT NULL\n",
    "#     USING SAMPLE 100;\n",
    "# \"\"\").fetchdf()\n",
    "\n",
    "df = con.execute(\"\"\"\n",
    "    SELECT\n",
    "        *\n",
    "    FROM 'output/mmsi_246714000.parquet'\n",
    "    WHERE LATITUDE IS NOT NULL\n",
    "        AND LONGITUDE IS NOT NULL\n",
    "        AND SPEED IS NOT NULL\n",
    "        AND HEADING IS NOT NULL\n",
    "        AND COURSE IS NOT NULL;\n",
    "\"\"\").fetchdf()\n",
    "\n",
    "print(df.head())"
   ]
  },
  {
   "cell_type": "code",
   "execution_count": 19,
   "id": "45a95886",
   "metadata": {},
   "outputs": [
    {
     "name": "stdout",
     "output_type": "stream",
     "text": [
      "Point: 1.3302833333333333 104.075005\n",
      "Cell: 886526aab7fffff\n",
      "Center: (1.3327980900871055, 104.07688563161383)\n",
      "Boundary: ((1.3299130789696743, 104.08103562602518), (1.3349941469297457, 104.08153958011539), (1.337879284335618, 104.0773895356775), (1.335683196409744, 104.07273548047392), (1.3306020006212755, 104.07223164090567), (1.3277170205777185, 104.07638174201013))\n",
      "Parent: 876526aabffffff\n",
      "Children: ['896526aab63ffff', '896526aab67ffff', '896526aab6bffff', '896526aab6fffff', '896526aab73ffff', '896526aab77ffff', '896526aab7bffff']\n"
     ]
    }
   ],
   "source": [
    "res = 8\n",
    "\n",
    "# random top 1 sample\n",
    "lat, lon = df.iloc[0][['LATITUDE', 'LONGITUDE']]\n",
    "\n",
    "# basic usage\n",
    "cell = h3.latlng_to_cell(lat, lon, res)\n",
    "center = h3.cell_to_latlng(cell)\n",
    "boundary = h3.cell_to_boundary(cell)\n",
    "neighbors = h3.grid_disk(cell, 1)\n",
    "parent = h3.cell_to_parent(cell, 7)\n",
    "children = h3.cell_to_children(cell, 9)\n",
    "\n",
    "print(\"Point:\", lat, lon)\n",
    "print(\"Cell:\", cell)\n",
    "print(\"Center:\", center)\n",
    "print(\"Boundary:\", boundary) \n",
    "print(\"Parent:\", parent)\n",
    "print(\"Children:\", children)"
   ]
  },
  {
   "cell_type": "code",
   "execution_count": 20,
   "id": "51ce3b17",
   "metadata": {},
   "outputs": [
    {
     "data": {
      "text/html": [
       "<div>\n",
       "<style scoped>\n",
       "    .dataframe tbody tr th:only-of-type {\n",
       "        vertical-align: middle;\n",
       "    }\n",
       "\n",
       "    .dataframe tbody tr th {\n",
       "        vertical-align: top;\n",
       "    }\n",
       "\n",
       "    .dataframe thead th {\n",
       "        text-align: right;\n",
       "    }\n",
       "</style>\n",
       "<table border=\"1\" class=\"dataframe\">\n",
       "  <thead>\n",
       "    <tr style=\"text-align: right;\">\n",
       "      <th></th>\n",
       "      <th>MMSI</th>\n",
       "      <th>TIMESTAMP</th>\n",
       "      <th>LATITUDE</th>\n",
       "      <th>LONGITUDE</th>\n",
       "      <th>SPEED</th>\n",
       "      <th>HEADING</th>\n",
       "      <th>COURSE</th>\n",
       "      <th>H3_R8</th>\n",
       "      <th>H3_R9</th>\n",
       "      <th>H3_R10</th>\n",
       "    </tr>\n",
       "  </thead>\n",
       "  <tbody>\n",
       "    <tr>\n",
       "      <th>0</th>\n",
       "      <td>mmsi-246714000</td>\n",
       "      <td>2023-02-01 00:00:20</td>\n",
       "      <td>1.330283</td>\n",
       "      <td>104.075005</td>\n",
       "      <td>10.6</td>\n",
       "      <td>315.0</td>\n",
       "      <td>315.8</td>\n",
       "      <td>886526aab7fffff</td>\n",
       "      <td>896526aab77ffff</td>\n",
       "      <td>8a6526aab75ffff</td>\n",
       "    </tr>\n",
       "    <tr>\n",
       "      <th>1</th>\n",
       "      <td>mmsi-246714000</td>\n",
       "      <td>2023-02-01 00:00:30</td>\n",
       "      <td>1.330635</td>\n",
       "      <td>104.074662</td>\n",
       "      <td>10.6</td>\n",
       "      <td>315.0</td>\n",
       "      <td>315.8</td>\n",
       "      <td>886526aab7fffff</td>\n",
       "      <td>896526aab77ffff</td>\n",
       "      <td>8a6526aab667fff</td>\n",
       "    </tr>\n",
       "    <tr>\n",
       "      <th>2</th>\n",
       "      <td>mmsi-246714000</td>\n",
       "      <td>2023-02-01 00:00:41</td>\n",
       "      <td>1.331018</td>\n",
       "      <td>104.074282</td>\n",
       "      <td>10.5</td>\n",
       "      <td>315.0</td>\n",
       "      <td>315.9</td>\n",
       "      <td>886526aab7fffff</td>\n",
       "      <td>896526aab67ffff</td>\n",
       "      <td>8a6526aab667fff</td>\n",
       "    </tr>\n",
       "    <tr>\n",
       "      <th>3</th>\n",
       "      <td>mmsi-246714000</td>\n",
       "      <td>2023-02-01 00:00:51</td>\n",
       "      <td>1.331365</td>\n",
       "      <td>104.073933</td>\n",
       "      <td>10.5</td>\n",
       "      <td>315.0</td>\n",
       "      <td>315.9</td>\n",
       "      <td>886526aab7fffff</td>\n",
       "      <td>896526aab67ffff</td>\n",
       "      <td>8a6526aab667fff</td>\n",
       "    </tr>\n",
       "    <tr>\n",
       "      <th>4</th>\n",
       "      <td>mmsi-246714000</td>\n",
       "      <td>2023-02-01 00:00:52</td>\n",
       "      <td>1.331365</td>\n",
       "      <td>104.073933</td>\n",
       "      <td>10.5</td>\n",
       "      <td>315.0</td>\n",
       "      <td>315.9</td>\n",
       "      <td>886526aab7fffff</td>\n",
       "      <td>896526aab67ffff</td>\n",
       "      <td>8a6526aab667fff</td>\n",
       "    </tr>\n",
       "  </tbody>\n",
       "</table>\n",
       "</div>"
      ],
      "text/plain": [
       "             MMSI           TIMESTAMP  LATITUDE   LONGITUDE  SPEED  HEADING  \\\n",
       "0  mmsi-246714000 2023-02-01 00:00:20  1.330283  104.075005   10.6    315.0   \n",
       "1  mmsi-246714000 2023-02-01 00:00:30  1.330635  104.074662   10.6    315.0   \n",
       "2  mmsi-246714000 2023-02-01 00:00:41  1.331018  104.074282   10.5    315.0   \n",
       "3  mmsi-246714000 2023-02-01 00:00:51  1.331365  104.073933   10.5    315.0   \n",
       "4  mmsi-246714000 2023-02-01 00:00:52  1.331365  104.073933   10.5    315.0   \n",
       "\n",
       "   COURSE            H3_R8            H3_R9           H3_R10  \n",
       "0   315.8  886526aab7fffff  896526aab77ffff  8a6526aab75ffff  \n",
       "1   315.8  886526aab7fffff  896526aab77ffff  8a6526aab667fff  \n",
       "2   315.9  886526aab7fffff  896526aab67ffff  8a6526aab667fff  \n",
       "3   315.9  886526aab7fffff  896526aab67ffff  8a6526aab667fff  \n",
       "4   315.9  886526aab7fffff  896526aab67ffff  8a6526aab667fff  "
      ]
     },
     "execution_count": 20,
     "metadata": {},
     "output_type": "execute_result"
    }
   ],
   "source": [
    "df[\"H3_R8\"] = [h3.latlng_to_cell(lat, lon, 8) for lat, lon in zip(df[\"LATITUDE\"], df[\"LONGITUDE\"])]\n",
    "df[\"H3_R9\"] = [h3.latlng_to_cell(lat, lon, 9) for lat, lon in zip(df[\"LATITUDE\"], df[\"LONGITUDE\"])]\n",
    "df[\"H3_R10\"] = [h3.latlng_to_cell(lat, lon, 10) for lat, lon in zip(df[\"LATITUDE\"], df[\"LONGITUDE\"])]\n",
    "df.head()"
   ]
  },
  {
   "cell_type": "code",
   "execution_count": null,
   "id": "bb10257f",
   "metadata": {},
   "outputs": [],
   "source": [
    "# aggregate per hex resolution 8\n",
    "agg_hex_r8 = (df.groupby(\"H3_R8\")\n",
    "          .agg(\n",
    "               point_count=(\"MMSI\",\"size\"),\n",
    "               # useful when multiple ships in one hex\n",
    "               # unique_mmsi=(\"MMSI\",\"nunique\"),\n",
    "               mean_speed=(\"SPEED\",\"mean\"),\n",
    "               min_speed=(\"SPEED\",\"min\"),\n",
    "               max_speed=(\"SPEED\",\"max\"),\n",
    "               std_speed=(\"SPEED\",\"std\"),\n",
    "               mean_cog=(\"COURSE\",\"mean\"),\n",
    "               std_cog=(\"COURSE\",\"std\"),\n",
    "               mean_heading=(\"HEADING\",\"mean\"),\n",
    "               std_heading=(\"HEADING\",\"std\"),\n",
    "               ts_min=(\"TIMESTAMP\",\"min\"),\n",
    "               ts_max=(\"TIMESTAMP\",\"max\"),\n",
    "          )\n",
    "         .reset_index())\n",
    "\n",
    "# aggregate per hex resolution 9\n",
    "agg_hex_r9 = (df.groupby(\"H3_R9\")\n",
    "          .agg(\n",
    "               point_count=(\"MMSI\",\"size\"),\n",
    "               mean_speed=(\"SPEED\",\"mean\"),\n",
    "               min_speed=(\"SPEED\",\"min\"),\n",
    "               max_speed=(\"SPEED\",\"max\"),\n",
    "               std_speed=(\"SPEED\",\"std\"),\n",
    "               mean_cog=(\"COURSE\",\"mean\"),\n",
    "               std_cog=(\"COURSE\",\"std\"),\n",
    "               mean_heading=(\"HEADING\",\"mean\"),\n",
    "               std_heading=(\"HEADING\",\"std\"),\n",
    "               ts_min=(\"TIMESTAMP\",\"min\"),\n",
    "               ts_max=(\"TIMESTAMP\",\"max\"),\n",
    "          )\n",
    "         .reset_index())\n",
    "\n",
    "# dwell time in minutes\n",
    "# agg_hex_r9[\"dwell_minutes\"] = (\n",
    "#     agg_hex_r9[\"ts_max\"] - agg_hex_r9[\"ts_min\"]\n",
    "# ).dt.total_seconds() / 60\n",
    "\n",
    "# aggregate per hex resolution 10\n",
    "agg_hex_r10 = (df.groupby(\"H3_R10\")\n",
    "     .agg(\n",
    "          point_count=(\"MMSI\",\"size\"),\n",
    "          mean_speed=(\"SPEED\",\"mean\"),\n",
    "          min_speed=(\"SPEED\",\"min\"),\n",
    "          max_speed=(\"SPEED\",\"max\"),\n",
    "          std_speed=(\"SPEED\",\"std\"),\n",
    "          mean_cog=(\"COURSE\",\"mean\"),\n",
    "          std_cog=(\"COURSE\",\"std\"),\n",
    "          mean_heading=(\"HEADING\",\"mean\"),\n",
    "          std_heading=(\"HEADING\",\"std\"),\n",
    "          ts_min=(\"TIMESTAMP\",\"min\"),\n",
    "          ts_max=(\"TIMESTAMP\",\"max\"),\n",
    "     )\n",
    "     .reset_index())"
   ]
  },
  {
   "cell_type": "code",
   "execution_count": 22,
   "id": "98f4c963",
   "metadata": {},
   "outputs": [],
   "source": [
    "agg_hex_r8.to_parquet(\"output/mmsi_246714000_h3_r8.parquet\", index=False)\n",
    "agg_hex_r9.to_parquet(\"output/mmsi_246714000_h3_r9.parquet\", index=False)\n",
    "agg_hex_r10.to_parquet(\"output/mmsi_246714000_h3_r10.parquet\", index=False)"
   ]
  },
  {
   "cell_type": "code",
   "execution_count": null,
   "id": "ba3bb0d6",
   "metadata": {},
   "outputs": [
    {
     "data": {
      "text/plain": [
       "<duckdb.duckdb.DuckDBPyConnection at 0x243023a2070>"
      ]
     },
     "execution_count": 35,
     "metadata": {},
     "output_type": "execute_result"
    }
   ],
   "source": [
    "# install h3 extension if not already installed\n",
    "con.execute(\"INSTALL h3 FROM community;\")"
   ]
  },
  {
   "cell_type": "code",
   "execution_count": null,
   "id": "25473ca0",
   "metadata": {},
   "outputs": [
    {
     "data": {
      "text/plain": [
       "<duckdb.duckdb.DuckDBPyConnection at 0x243023a2070>"
      ]
     },
     "execution_count": 36,
     "metadata": {},
     "output_type": "execute_result"
    }
   ],
   "source": [
    "con.execute(\"LOAD h3;\")"
   ]
  },
  {
   "cell_type": "code",
   "execution_count": null,
   "id": "6a6b7114",
   "metadata": {},
   "outputs": [
    {
     "ename": "CatalogException",
     "evalue": "Catalog Error: Column with name h3 already exists!",
     "output_type": "error",
     "traceback": [
      "\u001b[31m---------------------------------------------------------------------------\u001b[39m",
      "\u001b[31mCatalogException\u001b[39m                          Traceback (most recent call last)",
      "\u001b[36mCell\u001b[39m\u001b[36m \u001b[39m\u001b[32mIn[37]\u001b[39m\u001b[32m, line 1\u001b[39m\n\u001b[32m----> \u001b[39m\u001b[32m1\u001b[39m \u001b[43mcon\u001b[49m\u001b[43m.\u001b[49m\u001b[43mexecute\u001b[49m\u001b[43m(\u001b[49m\u001b[33;43m\"\u001b[39;49m\u001b[33;43mALTER TABLE feb_ais ADD COLUMN h3 VARCHAR;\u001b[39;49m\u001b[33;43m\"\u001b[39;49m\u001b[43m)\u001b[49m\n\u001b[32m      2\u001b[39m con.execute(\u001b[33m\"\u001b[39m\u001b[33mALTER TABLE aug_ais ADD COLUMN h3 VARCHAR;\u001b[39m\u001b[33m\"\u001b[39m)\n",
      "\u001b[31mCatalogException\u001b[39m: Catalog Error: Column with name h3 already exists!"
     ]
    }
   ],
   "source": [
    "con.execute(\"ALTER TABLE feb_ais ADD COLUMN h3 VARCHAR;\")\n",
    "con.execute(\"ALTER TABLE aug_ais ADD COLUMN h3 VARCHAR;\")"
   ]
  },
  {
   "cell_type": "code",
   "execution_count": null,
   "id": "90f6bd3c",
   "metadata": {},
   "outputs": [],
   "source": [
    "con.execute(\"\"\"\n",
    "    UPDATE feb_ais\n",
    "    SET h3 = h3_latlng_to_cell(LATITUDE, LONGITUDE, 8)\n",
    "\"\"\")"
   ]
  },
  {
   "cell_type": "code",
   "execution_count": null,
   "id": "c14e98e7",
   "metadata": {},
   "outputs": [],
   "source": [
    "con.execute(\"\"\"\n",
    "    UPDATE aug_ais\n",
    "    SET h3 = h3_latlng_to_cell(LATITUDE, LONGITUDE, 8)\n",
    "\"\"\")"
   ]
  },
  {
   "cell_type": "code",
   "execution_count": null,
   "id": "84605271",
   "metadata": {},
   "outputs": [],
   "source": [
    "con.close()"
   ]
  }
 ],
 "metadata": {
  "kernelspec": {
   "display_name": "ais",
   "language": "python",
   "name": "python3"
  },
  "language_info": {
   "codemirror_mode": {
    "name": "ipython",
    "version": 3
   },
   "file_extension": ".py",
   "mimetype": "text/x-python",
   "name": "python",
   "nbconvert_exporter": "python",
   "pygments_lexer": "ipython3",
   "version": "3.11.13"
  }
 },
 "nbformat": 4,
 "nbformat_minor": 5
}
