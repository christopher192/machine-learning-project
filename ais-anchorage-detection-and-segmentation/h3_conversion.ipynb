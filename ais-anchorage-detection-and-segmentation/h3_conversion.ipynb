{
 "cells": [
  {
   "cell_type": "code",
   "execution_count": 1,
   "id": "9a56e02e",
   "metadata": {},
   "outputs": [],
   "source": [
    "import duckdb\n",
    "import pandas as pd, h3"
   ]
  },
  {
   "cell_type": "code",
   "execution_count": 2,
   "id": "6eeed736",
   "metadata": {},
   "outputs": [],
   "source": [
    "con = duckdb.connect(\"ais.duckdb\")"
   ]
  },
  {
   "cell_type": "code",
   "execution_count": 3,
   "id": "1ca6c95a",
   "metadata": {},
   "outputs": [
    {
     "name": "stdout",
     "output_type": "stream",
     "text": [
      "            TIMESTAMP       MMSI  LATITUDE   LONGITUDE  SPEED  HEADING  COURSE\n",
      "0 2023-02-16 21:19:26  246714000  1.174930  103.926972    0.0     51.0   142.2\n",
      "1 2023-02-22 13:49:26  246714000  1.175765  103.927030    0.0     55.0   182.1\n",
      "2 2023-02-06 16:43:31  246714000  1.268458  103.876105    0.0     43.0   351.8\n",
      "3 2023-02-18 17:46:26  246714000  1.175235  103.926875    0.0     57.0   115.1\n"
     ]
    }
   ],
   "source": [
    "df = con.execute(\"\"\"\n",
    "    SELECT *\n",
    "    FROM 'output/mmsi_246714000.parquet'\n",
    "    WHERE LATITUDE IS NOT NULL\n",
    "        AND LONGITUDE IS NOT NULL\n",
    "        AND SPEED IS NOT NULL\n",
    "        AND HEADING IS NOT NULL\n",
    "        AND COURSE IS NOT NULL\n",
    "    USING SAMPLE 100;\n",
    "\"\"\").fetchdf()\n",
    "\n",
    "print(df.head())"
   ]
  },
  {
   "cell_type": "code",
   "execution_count": 4,
   "id": "45a95886",
   "metadata": {},
   "outputs": [
    {
     "name": "stdout",
     "output_type": "stream",
     "text": [
      "Point: 1.17493 103.92697166666667\n",
      "Cell: 886526a42bfffff\n",
      "Center: (1.1754611395439742, 103.92821490627696)\n",
      "Boundary: ((1.172579335735478, 103.93236717322335), (1.1776581468878855, 103.9328689296913), (1.1805400773090489, 103.92871661246168), (1.1783430389687974, 103.92406248409706), (1.1732641019931986, 103.9235608426224), (1.1703823291715592, 103.9277132145102))\n",
      "Parent: 876526a42ffffff\n",
      "Children: ['896526a42a3ffff', '896526a42a7ffff', '896526a42abffff', '896526a42afffff', '896526a42b3ffff', '896526a42b7ffff', '896526a42bbffff']\n"
     ]
    }
   ],
   "source": [
    "res = 8\n",
    "\n",
    "# random top 1 sample\n",
    "lat, lon = df.iloc[0][['LATITUDE', 'LONGITUDE']]\n",
    "\n",
    "# basic usage\n",
    "cell = h3.latlng_to_cell(lat, lon, res)\n",
    "center = h3.cell_to_latlng(cell)\n",
    "boundary = h3.cell_to_boundary(cell)\n",
    "neighbors = h3.grid_disk(cell, 1)\n",
    "parent = h3.cell_to_parent(cell, 7)\n",
    "children = h3.cell_to_children(cell, 9)\n",
    "\n",
    "print(\"Point:\", lat, lon)\n",
    "print(\"Cell:\", cell)\n",
    "print(\"Center:\", center)\n",
    "print(\"Boundary:\", boundary) \n",
    "print(\"Parent:\", parent)\n",
    "print(\"Children:\", children)"
   ]
  },
  {
   "cell_type": "code",
   "execution_count": 5,
   "id": "51ce3b17",
   "metadata": {},
   "outputs": [
    {
     "data": {
      "text/html": [
       "<div>\n",
       "<style scoped>\n",
       "    .dataframe tbody tr th:only-of-type {\n",
       "        vertical-align: middle;\n",
       "    }\n",
       "\n",
       "    .dataframe tbody tr th {\n",
       "        vertical-align: top;\n",
       "    }\n",
       "\n",
       "    .dataframe thead th {\n",
       "        text-align: right;\n",
       "    }\n",
       "</style>\n",
       "<table border=\"1\" class=\"dataframe\">\n",
       "  <thead>\n",
       "    <tr style=\"text-align: right;\">\n",
       "      <th></th>\n",
       "      <th>TIMESTAMP</th>\n",
       "      <th>MMSI</th>\n",
       "      <th>LATITUDE</th>\n",
       "      <th>LONGITUDE</th>\n",
       "      <th>SPEED</th>\n",
       "      <th>HEADING</th>\n",
       "      <th>COURSE</th>\n",
       "      <th>H3</th>\n",
       "    </tr>\n",
       "  </thead>\n",
       "  <tbody>\n",
       "    <tr>\n",
       "      <th>0</th>\n",
       "      <td>2023-02-16 21:19:26</td>\n",
       "      <td>246714000</td>\n",
       "      <td>1.174930</td>\n",
       "      <td>103.926972</td>\n",
       "      <td>0.0</td>\n",
       "      <td>51.0</td>\n",
       "      <td>142.2</td>\n",
       "      <td>886526a42bfffff</td>\n",
       "    </tr>\n",
       "    <tr>\n",
       "      <th>1</th>\n",
       "      <td>2023-02-22 13:49:26</td>\n",
       "      <td>246714000</td>\n",
       "      <td>1.175765</td>\n",
       "      <td>103.927030</td>\n",
       "      <td>0.0</td>\n",
       "      <td>55.0</td>\n",
       "      <td>182.1</td>\n",
       "      <td>886526a42bfffff</td>\n",
       "    </tr>\n",
       "    <tr>\n",
       "      <th>2</th>\n",
       "      <td>2023-02-06 16:43:31</td>\n",
       "      <td>246714000</td>\n",
       "      <td>1.268458</td>\n",
       "      <td>103.876105</td>\n",
       "      <td>0.0</td>\n",
       "      <td>43.0</td>\n",
       "      <td>351.8</td>\n",
       "      <td>886520db01fffff</td>\n",
       "    </tr>\n",
       "    <tr>\n",
       "      <th>3</th>\n",
       "      <td>2023-02-18 17:46:26</td>\n",
       "      <td>246714000</td>\n",
       "      <td>1.175235</td>\n",
       "      <td>103.926875</td>\n",
       "      <td>0.0</td>\n",
       "      <td>57.0</td>\n",
       "      <td>115.1</td>\n",
       "      <td>886526a42bfffff</td>\n",
       "    </tr>\n",
       "  </tbody>\n",
       "</table>\n",
       "</div>"
      ],
      "text/plain": [
       "            TIMESTAMP       MMSI  LATITUDE   LONGITUDE  SPEED  HEADING  \\\n",
       "0 2023-02-16 21:19:26  246714000  1.174930  103.926972    0.0     51.0   \n",
       "1 2023-02-22 13:49:26  246714000  1.175765  103.927030    0.0     55.0   \n",
       "2 2023-02-06 16:43:31  246714000  1.268458  103.876105    0.0     43.0   \n",
       "3 2023-02-18 17:46:26  246714000  1.175235  103.926875    0.0     57.0   \n",
       "\n",
       "   COURSE               H3  \n",
       "0   142.2  886526a42bfffff  \n",
       "1   182.1  886526a42bfffff  \n",
       "2   351.8  886520db01fffff  \n",
       "3   115.1  886526a42bfffff  "
      ]
     },
     "execution_count": 5,
     "metadata": {},
     "output_type": "execute_result"
    }
   ],
   "source": [
    "df[\"H3\"] = [h3.latlng_to_cell(lat, lon, res) for lat, lon in zip(df[\"LATITUDE\"], df[\"LONGITUDE\"])]\n",
    "df.head()"
   ]
  },
  {
   "cell_type": "code",
   "execution_count": 6,
   "id": "bb10257f",
   "metadata": {},
   "outputs": [],
   "source": [
    "# aggregate per hex\n",
    "agg = (df.groupby(\"H3\")\n",
    "         .agg(ship_points=(\"MMSI\",\"size\"),\n",
    "              unique_mmsi=(\"MMSI\",\"nunique\"),\n",
    "              mean_speed=(\"SPEED\",\"mean\"))\n",
    "         .reset_index())"
   ]
  },
  {
   "cell_type": "code",
   "execution_count": 7,
   "id": "98f4c963",
   "metadata": {},
   "outputs": [],
   "source": [
    "agg.to_parquet(\"output/mmsi_246714000_h3.parquet\", index=False)"
   ]
  }
 ],
 "metadata": {
  "kernelspec": {
   "display_name": "ais",
   "language": "python",
   "name": "python3"
  },
  "language_info": {
   "codemirror_mode": {
    "name": "ipython",
    "version": 3
   },
   "file_extension": ".py",
   "mimetype": "text/x-python",
   "name": "python",
   "nbconvert_exporter": "python",
   "pygments_lexer": "ipython3",
   "version": "3.11.13"
  }
 },
 "nbformat": 4,
 "nbformat_minor": 5
}
