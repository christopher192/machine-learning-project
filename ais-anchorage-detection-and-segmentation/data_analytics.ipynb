{
 "cells": [
  {
   "cell_type": "code",
   "execution_count": 13,
   "id": "88a656ee",
   "metadata": {},
   "outputs": [],
   "source": [
    "import duckdb\n",
    "import pandas as pd, h3\n",
    "import matplotlib.pyplot as plt"
   ]
  },
  {
   "cell_type": "code",
   "execution_count": 14,
   "id": "56ec068c",
   "metadata": {},
   "outputs": [],
   "source": [
    "con = duckdb.connect(\"ais.duckdb\")"
   ]
  },
  {
   "cell_type": "code",
   "execution_count": 15,
   "id": "3dc39d1d",
   "metadata": {},
   "outputs": [
    {
     "name": "stdout",
     "output_type": "stream",
     "text": [
      "            TIMESTAMP  MMSI  LATITUDE  LONGITUDE  SPEED  HEADING  COURSE\n",
      "0 2023-02-04 00:00:07     0       NaN        NaN    NaN      NaN     NaN\n",
      "1 2023-02-04 00:00:11     0       NaN        NaN    NaN      NaN     NaN\n",
      "2 2023-02-04 00:00:27     0       NaN        NaN    NaN      NaN     NaN\n",
      "3 2023-02-04 00:00:27     0       NaN        NaN    NaN      NaN     NaN\n",
      "4 2023-02-04 00:00:37     0       NaN        NaN    NaN      NaN     NaN\n",
      "5 2023-02-04 00:00:51     0       NaN        NaN    NaN      NaN     NaN\n",
      "6 2023-02-04 00:00:52     0       NaN        NaN    NaN      NaN     NaN\n",
      "7 2023-02-04 00:00:53     0       NaN        NaN    NaN      NaN     NaN\n",
      "8 2023-02-04 00:00:53     0       NaN        NaN    NaN      NaN     NaN\n",
      "9 2023-02-04 00:00:54     0       NaN        NaN    NaN      NaN     NaN\n"
     ]
    }
   ],
   "source": [
    "feb_df = con.execute(\"\"\"\n",
    "    SELECT * \n",
    "    FROM feb_ais\n",
    "\"\"\").fetchdf()\n",
    "\n",
    "print(feb_df.head(10))"
   ]
  },
  {
   "cell_type": "code",
   "execution_count": 16,
   "id": "461c899a",
   "metadata": {},
   "outputs": [
    {
     "name": "stdout",
     "output_type": "stream",
     "text": [
      "            TIMESTAMP  MMSI  LATITUDE  LONGITUDE  SPEED  HEADING  COURSE\n",
      "0 2023-08-01 00:00:04     0       NaN        NaN    NaN      NaN     NaN\n",
      "1 2023-08-01 00:00:12     0       NaN        NaN    NaN      NaN     NaN\n",
      "2 2023-08-01 00:00:21     0       NaN        NaN    NaN      NaN     NaN\n",
      "3 2023-08-01 00:00:23     0       NaN        NaN    NaN      NaN     NaN\n",
      "4 2023-08-01 00:00:23     0       NaN        NaN    NaN      NaN     NaN\n",
      "5 2023-08-01 00:00:23     0       NaN        NaN    NaN      NaN     NaN\n",
      "6 2023-08-01 00:00:26     0       NaN        NaN    NaN      NaN     NaN\n",
      "7 2023-08-01 00:00:26     0       NaN        NaN    NaN      NaN     NaN\n",
      "8 2023-08-01 00:00:30     0       NaN        NaN    NaN      NaN     NaN\n",
      "9 2023-08-01 00:00:30     0       NaN        NaN    NaN      NaN     NaN\n"
     ]
    }
   ],
   "source": [
    "aug_df = con.execute(\"\"\"\n",
    "    SELECT * \n",
    "    FROM aug_ais\n",
    "\"\"\").fetchdf()\n",
    "\n",
    "print(aug_df.head(10))"
   ]
  },
  {
   "cell_type": "code",
   "execution_count": 17,
   "id": "0f7f1ca8",
   "metadata": {},
   "outputs": [
    {
     "name": "stdout",
     "output_type": "stream",
     "text": [
      "        MMSI  SHIP_AND_CARGO_TYPE  TO_BOW  TO_STERN  TO_PORT  TO_STARBOARD\n",
      "0  235116537                   90     226        60       32            12\n",
      "1  477848800                   80     282        51       33            27\n",
      "2  525109013                   70     163        27       33            33\n",
      "3  352001892                    0     277        55       35            23\n",
      "4  538003428                   81     288        45       35            25\n",
      "5  577042000                   99     300       400       50            50\n",
      "6  636018827                   80     281        52       36            24\n",
      "7  352001096                   89     290        43       32            28\n",
      "8  431073000                   70     142       222       40            11\n",
      "9  200042177                   70     511       511       63            63\n"
     ]
    }
   ],
   "source": [
    "static_mmsi_df = con.execute(\"\"\"\n",
    "    SELECT * \n",
    "    FROM static_mmsi\n",
    "\"\"\").fetchdf()\n",
    "\n",
    "print(static_mmsi_df.head(10))"
   ]
  },
  {
   "cell_type": "code",
   "execution_count": null,
   "id": "7cb9bedf",
   "metadata": {},
   "outputs": [
    {
     "name": "stdout",
     "output_type": "stream",
     "text": [
      "                        TIMESTAMP          MMSI      LATITUDE     LONGITUDE  \\\n",
      "count                   106232847  1.062328e+08  9.078406e+07  9.078406e+07   \n",
      "mean   2023-02-15 00:32:39.233754  5.119641e+08  1.698033e+00  1.045129e+02   \n",
      "min           2023-02-01 00:00:00  0.000000e+00  2.685333e-01  9.710000e+01   \n",
      "25%           2023-02-08 02:47:04  5.250121e+08  1.227353e+00  1.037498e+02   \n",
      "50%           2023-02-14 22:59:50  5.630292e+08  1.266365e+00  1.038419e+02   \n",
      "75%           2023-02-22 00:55:35  5.646880e+08  1.297580e+00  1.039641e+02   \n",
      "max           2023-02-28 23:59:59  1.069655e+09  7.633792e+00  1.198628e+02   \n",
      "std                           NaN  1.046320e+08  1.273595e+00  3.015626e+00   \n",
      "\n",
      "              SPEED       HEADING        COURSE  \n",
      "count  9.043036e+07  9.043036e+07  9.043036e+07  \n",
      "mean   4.464236e+00  2.649772e+02  1.862999e+02  \n",
      "min    0.000000e+00  0.000000e+00  0.000000e+00  \n",
      "25%    0.000000e+00  8.300000e+01  8.550000e+01  \n",
      "50%    3.000000e-01  2.560000e+02  1.940000e+02  \n",
      "75%    7.100000e+00  5.110000e+02  2.788000e+02  \n",
      "max    1.023000e+02  5.110000e+02  4.095000e+02  \n",
      "std    9.316073e+00  1.835944e+02  1.090145e+02  \n",
      "                        TIMESTAMP          MMSI      LATITUDE     LONGITUDE  \\\n",
      "count                   158862650  1.588626e+08  1.256476e+08  1.256476e+08   \n",
      "mean   2023-08-16 07:37:16.415928  5.127796e+08  1.650885e+00  1.045079e+02   \n",
      "min           2023-08-01 00:00:00  0.000000e+00  2.786200e-01  9.710000e+01   \n",
      "25%           2023-08-08 10:58:24  5.250212e+08  1.229883e+00  1.037573e+02   \n",
      "50%           2023-08-16 02:28:06  5.630330e+08  1.269167e+00  1.038699e+02   \n",
      "75%           2023-08-24 03:58:29  5.645240e+08  1.298858e+00  1.039815e+02   \n",
      "max           2023-08-31 23:59:59  1.073461e+09  7.639050e+00  1.198628e+02   \n",
      "std                           NaN  1.106389e+08  1.200135e+00  2.906689e+00   \n",
      "\n",
      "              SPEED       HEADING        COURSE  \n",
      "count  1.252103e+08  1.252103e+08  1.252103e+08  \n",
      "mean   4.543510e+00  2.907494e+02  1.865520e+02  \n",
      "min    0.000000e+00  0.000000e+00  0.000000e+00  \n",
      "25%    0.000000e+00  1.250000e+02  8.270000e+01  \n",
      "50%    3.000000e-01  2.590000e+02  1.985000e+02  \n",
      "75%    7.300000e+00  5.110000e+02  2.802000e+02  \n",
      "max    1.023000e+02  5.110000e+02  4.095000e+02  \n",
      "std    9.320632e+00  1.767475e+02  1.123397e+02  \n",
      "               MMSI  SHIP_AND_CARGO_TYPE        TO_BOW     TO_STERN  \\\n",
      "count  2.126800e+04         21268.000000  21268.000000  21268.00000   \n",
      "mean   4.854224e+08            56.984202    103.368018     32.00268   \n",
      "std    1.204552e+08            29.202699     94.423372     42.45928   \n",
      "min    0.000000e+00             0.000000      0.000000      0.00000   \n",
      "25%    4.131808e+08            37.000000      8.000000      6.00000   \n",
      "50%    5.255013e+08            70.000000     98.000000     25.00000   \n",
      "75%    5.630415e+08            79.000000    186.000000     39.00000   \n",
      "max    1.057065e+09           255.000000    511.000000    511.00000   \n",
      "\n",
      "            TO_PORT  TO_STARBOARD  \n",
      "count  21268.000000  21268.000000  \n",
      "mean      11.437183     11.142609  \n",
      "std       10.000346      9.867130  \n",
      "min        0.000000      0.000000  \n",
      "25%        3.000000      3.000000  \n",
      "50%       10.000000      9.000000  \n",
      "75%       19.000000     19.000000  \n",
      "max       63.000000     63.000000  \n"
     ]
    }
   ],
   "source": [
    "print(feb_df.describe())\n",
    "print(aug_df.describe())\n",
    "print(static_mmsi_df.describe())"
   ]
  },
  {
   "cell_type": "code",
   "execution_count": 25,
   "id": "a33b618c",
   "metadata": {},
   "outputs": [
    {
     "data": {
      "image/png": "[encoded data removed]",
      "text/plain": [
       "<Figure size 1400x500 with 2 Axes>"
      ]
     },
     "metadata": {},
     "output_type": "display_data"
    }
   ],
   "source": [
    "fig, axes = plt.subplots(1, 2, figsize=(14, 5), sharey=True)\n",
    "\n",
    "# february histogram\n",
    "axes[0].hist(feb_df[\"SPEED\"], bins=105, range=(0, 105), edgecolor=\"black\")\n",
    "axes[0].set_xlabel(\"Speed Over Ground (knots)\")\n",
    "axes[0].set_ylabel(\"Frequency\")\n",
    "axes[0].set_title(\"Speed Distribution – Feb 2023 (0–105 knot)\")\n",
    "\n",
    "# august histogram\n",
    "axes[1].hist(aug_df[\"SPEED\"], bins=105, range=(0, 105), edgecolor=\"black\")\n",
    "axes[1].set_xlabel(\"Speed Over Ground (knots)\")\n",
    "axes[1].set_title(\"Speed Distribution – Aug 2023 (0–105 knot)\")\n",
    "\n",
    "plt.tight_layout()\n",
    "plt.show()"
   ]
  },
  {
   "cell_type": "code",
   "execution_count": null,
   "id": "890c9bc1",
   "metadata": {},
   "outputs": [],
   "source": [
    "con.close()"
   ]
  },
  {
   "cell_type": "code",
   "execution_count": null,
   "id": "7ea788a2",
   "metadata": {},
   "outputs": [],
   "source": []
  }
 ],
 "metadata": {
  "kernelspec": {
   "display_name": "ais",
   "language": "python",
   "name": "python3"
  },
  "language_info": {
   "codemirror_mode": {
    "name": "ipython",
    "version": 3
   },
   "file_extension": ".py",
   "mimetype": "text/x-python",
   "name": "python",
   "nbconvert_exporter": "python",
   "pygments_lexer": "ipython3",
   "version": "3.11.13"
  }
 },
 "nbformat": 4,
 "nbformat_minor": 5
}
