{
 "cells": [
  {
   "cell_type": "code",
   "execution_count": 1,
   "id": "88a656ee",
   "metadata": {},
   "outputs": [],
   "source": [
    "import duckdb\n",
    "import pandas as pd, h3"
   ]
  },
  {
   "cell_type": "code",
   "execution_count": 2,
   "id": "56ec068c",
   "metadata": {},
   "outputs": [],
   "source": [
    "con = duckdb.connect(\"ais.duckdb\")"
   ]
  },
  {
   "cell_type": "code",
   "execution_count": 3,
   "id": "3dc39d1d",
   "metadata": {},
   "outputs": [
    {
     "name": "stdout",
     "output_type": "stream",
     "text": [
      "            TIMESTAMP       MMSI  LATITUDE   LONGITUDE  SPEED  HEADING  COURSE\n",
      "0 2023-02-28 15:27:38  477196300  1.288872  104.083862    2.4    197.0   211.7\n",
      "1 2023-02-07 06:01:22  247409200  1.743043  102.536590   17.4    114.0   114.2\n",
      "2 2023-02-24 04:40:29  563002840  1.262583  103.820417    2.8    357.0   181.3\n",
      "3 2023-02-05 00:26:30  525400389  0.905388  103.269452    4.5    511.0   325.7\n",
      "4 2023-02-12 00:58:01  525201358  1.182638  103.829297    7.4     61.0    61.6\n"
     ]
    }
   ],
   "source": [
    "feb_df = con.execute(\"\"\"\n",
    "    SELECT * \n",
    "    FROM 'data/feb_2023.parquet' \n",
    "    LIMIT 5\n",
    "\"\"\").fetchdf()\n",
    "\n",
    "print(feb_df)"
   ]
  },
  {
   "cell_type": "code",
   "execution_count": 4,
   "id": "461c899a",
   "metadata": {},
   "outputs": [
    {
     "name": "stdout",
     "output_type": "stream",
     "text": [
      "            TIMESTAMP       MMSI  LATITUDE   LONGITUDE  SPEED  HEADING  COURSE\n",
      "0 2023-08-29 07:33:08  563009180  1.257522  103.765225   10.9    511.0    38.9\n",
      "1 2023-08-25 06:12:01  563032950  1.289798  103.900052  102.3    511.0   360.0\n",
      "2 2023-08-19 09:52:38  563070030  1.372867  104.038253    2.8    511.0   310.2\n",
      "3 2023-08-08 19:07:30  533006100  1.460938  103.871177  102.3    511.0   360.0\n",
      "4 2023-08-31 11:28:16  563000660  1.305203  103.952042    0.6    511.0   101.5\n"
     ]
    }
   ],
   "source": [
    "aug_df = con.execute(\"\"\"\n",
    "    SELECT * \n",
    "    FROM 'data/aug_2023.parquet' \n",
    "    LIMIT 5\n",
    "\"\"\").fetchdf()\n",
    "\n",
    "print(aug_df)"
   ]
  },
  {
   "cell_type": "code",
   "execution_count": 5,
   "id": "0f7f1ca8",
   "metadata": {},
   "outputs": [
    {
     "name": "stdout",
     "output_type": "stream",
     "text": [
      "        MMSI  SHIP_AND_CARGO_TYPE  TO_BOW  TO_STERN  TO_PORT  TO_STARBOARD\n",
      "0  235116537                   90     226        60       32            12\n",
      "1  477848800                   80     282        51       33            27\n",
      "2  525109013                   70     163        27       33            33\n",
      "3  352001892                    0     277        55       35            23\n",
      "4  538003428                   81     288        45       35            25\n"
     ]
    }
   ],
   "source": [
    "static_mmsi_df = con.execute(\"\"\"\n",
    "    SELECT * \n",
    "    FROM 'data/static_mmsi.csv' \n",
    "    LIMIT 5\n",
    "\"\"\").fetchdf()\n",
    "\n",
    "print(static_mmsi_df)"
   ]
  },
  {
   "cell_type": "code",
   "execution_count": null,
   "id": "a33b618c",
   "metadata": {},
   "outputs": [],
   "source": []
  },
  {
   "cell_type": "code",
   "execution_count": 6,
   "id": "890c9bc1",
   "metadata": {},
   "outputs": [],
   "source": [
    "con.close()"
   ]
  }
 ],
 "metadata": {
  "kernelspec": {
   "display_name": "ais",
   "language": "python",
   "name": "python3"
  },
  "language_info": {
   "codemirror_mode": {
    "name": "ipython",
    "version": 3
   },
   "file_extension": ".py",
   "mimetype": "text/x-python",
   "name": "python",
   "nbconvert_exporter": "python",
   "pygments_lexer": "ipython3",
   "version": "3.11.13"
  }
 },
 "nbformat": 4,
 "nbformat_minor": 5
}
